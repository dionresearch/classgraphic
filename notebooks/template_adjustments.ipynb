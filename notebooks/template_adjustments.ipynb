{
 "cells": [
  {
   "cell_type": "markdown",
   "id": "2dfc8a58",
   "metadata": {},
   "source": [
    "# Template adjustments"
   ]
  },
  {
   "cell_type": "code",
   "execution_count": null,
   "id": "0553e9b3",
   "metadata": {},
   "outputs": [],
   "source": [
    "from classgraphic.essential import *"
   ]
  },
  {
   "cell_type": "code",
   "execution_count": null,
   "id": "847c22ed",
   "metadata": {},
   "outputs": [],
   "source": [
    "df = px.data.iris()\n",
    "\n",
    "describe(df, transpose=True).show()"
   ]
  },
  {
   "cell_type": "markdown",
   "id": "84f7f035",
   "metadata": {},
   "source": [
    "The defaults are sane, but everybody has different requirements.\n",
    "\n",
    "## Layout dimensions\n",
    "\n",
    "Maybe the default height is too much or too little, same for width. You can either use your own template add it to `pio` (plotly io), and use `set_default_template(\"template_name\")`, where template_name is the string that identifies your template.\n",
    "\n",
    "Or, if you did a `*` import from `essential`, you can simply modify the active template (\"dion\") this way:"
   ]
  },
  {
   "cell_type": "code",
   "execution_count": null,
   "id": "21e7f96c",
   "metadata": {},
   "outputs": [],
   "source": [
    "from classgraphic.template import pio\n",
    "\n",
    "pio.templates[\"dion\"].layout.width = 1000\n",
    "pio.templates[\"dion\"].layout.height = 600\n",
    "pio.templates[\"dion\"].layout.autosize = False"
   ]
  },
  {
   "cell_type": "code",
   "execution_count": null,
   "id": "12d450d9",
   "metadata": {},
   "outputs": [],
   "source": [
    "describe(df, transpose=True).show()"
   ]
  },
  {
   "cell_type": "markdown",
   "id": "fb8fcbfa",
   "metadata": {},
   "source": [
    "## Font properties\n",
    "\n",
    "Customizing the title default font family, color and size:"
   ]
  },
  {
   "cell_type": "code",
   "execution_count": null,
   "id": "e150b34a",
   "metadata": {},
   "outputs": [],
   "source": [
    "pio.templates[\"dion\"].layout.title.font.family = \"Courier New\"\n",
    "pio.templates[\"dion\"].layout.title.font.color = \"red\"\n",
    "pio.templates[\"dion\"].layout.title.font.size = 16"
   ]
  },
  {
   "cell_type": "code",
   "execution_count": null,
   "id": "e5594380",
   "metadata": {},
   "outputs": [],
   "source": [
    "describe(df, transpose=True).show()"
   ]
  },
  {
   "cell_type": "markdown",
   "id": "bff3e973",
   "metadata": {},
   "source": [
    "# Adjusting Margins"
   ]
  },
  {
   "cell_type": "code",
   "execution_count": null,
   "id": "5640ab64",
   "metadata": {},
   "outputs": [],
   "source": [
    "pio.templates[\"dion\"].layout.margin.l = 0"
   ]
  },
  {
   "cell_type": "code",
   "execution_count": null,
   "id": "c26111b2",
   "metadata": {},
   "outputs": [],
   "source": [
    "describe(df, transpose=True).show()"
   ]
  },
  {
   "cell_type": "markdown",
   "id": "7c441ef3",
   "metadata": {},
   "source": [
    "## Using a different template"
   ]
  },
  {
   "cell_type": "code",
   "execution_count": null,
   "id": "37ce899d",
   "metadata": {},
   "outputs": [],
   "source": [
    "pio.templates"
   ]
  },
  {
   "cell_type": "code",
   "execution_count": null,
   "id": "d2947978",
   "metadata": {},
   "outputs": [],
   "source": [
    "set_default_template(\"seaborn\")"
   ]
  },
  {
   "cell_type": "code",
   "execution_count": null,
   "id": "0531d447",
   "metadata": {},
   "outputs": [],
   "source": [
    "describe(df, transpose=True).show()"
   ]
  }
 ],
 "metadata": {
  "kernelspec": {
   "display_name": "Python 3 (ipykernel)",
   "language": "python",
   "name": "python3"
  },
  "language_info": {
   "codemirror_mode": {
    "name": "ipython",
    "version": 3
   },
   "file_extension": ".py",
   "mimetype": "text/x-python",
   "name": "python",
   "nbconvert_exporter": "python",
   "pygments_lexer": "ipython3",
   "version": "3.8.3"
  }
 },
 "nbformat": 4,
 "nbformat_minor": 5
}
